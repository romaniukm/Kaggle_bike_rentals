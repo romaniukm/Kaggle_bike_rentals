{
 "cells": [
  {
   "cell_type": "markdown",
   "metadata": {},
   "source": [
    "# Kaggle - Bike Sharing Demand - Prediction\n",
    "\n",
    "### Important\n",
    "* **For forecasting only use data from time up to the forecast period**\n",
    "* Cost function is RMSE of log(1 + count), so it makes sense to optimise to predict log(1 + count).\n",
    "\n",
    "### Questions\n",
    "* Casual and registered users - should they be treated as separate data sets?\n",
    "\n",
    "### Conclusions from data exploration\n",
    "1. It seems to be a good idea to train separate models for registered and casual rentals, as they seem to respond differently to days off, weather etc.\n",
    "1. There is only one (hour) record of weather = 4 (the most extreme), so this should be relabeled as 3 (effectively merging 3 and 4) or discarded to avoid problems\n",
    "1. There are only 311 recorded hours (about 13 days) of holiday rentals over 2 years. In addition, we can only use past data for prediction at any point, so holiday may be a confusing feature."
   ]
  },
  {
   "cell_type": "code",
   "execution_count": 1,
   "metadata": {
    "collapsed": true
   },
   "outputs": [],
   "source": [
    "from __future__ import division\n",
    "import six\n",
    "from functools import partial\n",
    "import numpy as np\n",
    "import matplotlib.pyplot as plt\n",
    "import datetime as dt\n",
    "from dateutil.parser import parse\n",
    "import warnings\n",
    "from sklearn.ensemble import RandomForestRegressor\n",
    "from sklearn.linear_model import Ridge, RidgeCV, ElasticNet, ElasticNetCV, RandomizedLasso\n",
    "from sklearn.preprocessing import StandardScaler, PolynomialFeatures\n",
    "from sklearn.pipeline import Pipeline\n",
    "%matplotlib inline"
   ]
  },
  {
   "cell_type": "code",
   "execution_count": 2,
   "metadata": {
    "collapsed": false
   },
   "outputs": [],
   "source": [
    "def parse_features(filename):\n",
    "    # Parse data from csv to np arrays\n",
    "    \n",
    "    features = {}\n",
    "\n",
    "    datetime = np.loadtxt(filename, \n",
    "                          dtype=dt.datetime, \n",
    "                          converters={0: parse}, \n",
    "                          delimiter=',', \n",
    "                          skiprows=1, \n",
    "                          usecols=(0,))\n",
    "\n",
    "    features['year'] = np.asarray(list(d.year for d in datetime))\n",
    "    features['month'] = np.asarray(list(d.month for d in datetime))\n",
    "    features['day'] = np.asarray(list(d.day for d in datetime))\n",
    "    features['wday'] = np.asarray(list(d.isoweekday() for d in datetime))\n",
    "    features['hour'] = np.asarray(list(d.hour for d in datetime))\n",
    "\n",
    "    start_year = features['year'][0]\n",
    "    features['month_since_start'] = features['month'] + (features['year'] - start_year) * 12\n",
    "    \n",
    "    features['timestamp'] = np.loadtxt(filename, \n",
    "                                       dtype=str, \n",
    "                                       delimiter=',', \n",
    "                                       skiprows=1, \n",
    "                                       usecols=(0,))\n",
    "    \n",
    "    other = np.loadtxt(filename, \n",
    "                       delimiter=',', \n",
    "                       skiprows=1, \n",
    "                       usecols=range(1, 9))\n",
    "\n",
    "    features['season'] = other[:, 0].astype(np.int64)\n",
    "    features['season_since_start'] = features['season'] + (features['year'] - start_year) * 4\n",
    "\n",
    "    features['holiday'] = other[:, 1].astype(np.int64)\n",
    "    features['workingday'] = other[:, 2].astype(np.int64)\n",
    "\n",
    "    features['weather'] = other[:, 3].astype(np.int64)\n",
    "    features['temp'] = other[:, 4]\n",
    "    features['atemp'] = other[:, 5]\n",
    "    features['humidity'] = other[:, 6]\n",
    "    features['windspeed'] = other[:, 7]\n",
    "\n",
    "    return features\n",
    "\n",
    "\n",
    "def parse_targets(filename):\n",
    "    \n",
    "    targets = np.loadtxt(filename, \n",
    "                         delimiter=',', \n",
    "                         skiprows=1, \n",
    "                         usecols=range(9, 12))\n",
    "    \n",
    "    casual = targets[:, 0]\n",
    "    registered = targets[:, 1]\n",
    "    count = targets[:, 2]\n",
    "\n",
    "    casual_l1p = np.log1p(casual)\n",
    "    registered_l1p = np.log1p(registered)\n",
    "    count_l1p = np.log1p(count)\n",
    "    \n",
    "    return casual_l1p, registered_l1p, count_l1p"
   ]
  },
  {
   "cell_type": "code",
   "execution_count": 3,
   "metadata": {
    "collapsed": false
   },
   "outputs": [],
   "source": [
    "train_filename = 'data/train.csv'\n",
    "train_features = parse_features(train_filename)\n",
    "train_casual_l1p, train_registered_l1p, train_count_l1p = parse_targets(train_filename)"
   ]
  },
  {
   "cell_type": "markdown",
   "metadata": {},
   "source": [
    "## Validation and testing design\n",
    "\n",
    "### Testing \n",
    "Kaggle takes care of testing the complete model. The task is to use the first 19 days of the month (and any past data before that) to predict the remaining 9 to 11 days.\n",
    "**Remember that only data from before days for which predictions are made can be used for training and prediction.** (Someone on the forum suggested running a loop over months to take care of this.)\n",
    "\n",
    "### Validation\n",
    "Validation has to be done in development. The first idea is to use the first 10 days of the month (and any data before that) for training and the remaining 9 days for validation. This should give us a similar time horizon in validation to the one in testing.\n"
   ]
  },
  {
   "cell_type": "code",
   "execution_count": 4,
   "metadata": {
    "collapsed": false
   },
   "outputs": [],
   "source": [
    "def validate(models, features, targets, n_train_days=10, debug=False):\n",
    "    # The parameters models and targets_train must be lists of length 1 or 2 (must be the same for both).\n",
    "    # If their length is 1, a single model will be built. If their length is 2, then two separate models\n",
    "    # will be built, with the first regressor in models fit to predict the first vector in targets and \n",
    "    # the second regressor in models fit to predict the second vector in targets. In the case of two\n",
    "    # models, the final prediction is generated by applying the inverse of log(1 + x), adding them \n",
    "    # together and applying log(1 + x) to the sum.\n",
    " \n",
    "    scores = []\n",
    "    \n",
    "    for this_month_since_start in np.unique(features['month_since_start']):\n",
    "        \n",
    "        # Identify training data from previous months, from this month and validation\n",
    "        # data from this month\n",
    "        is_prev_months_fit = (features['month_since_start'] < this_month_since_start)\n",
    "        is_this_month_fit = np.logical_and(features['month_since_start'] == this_month_since_start,\n",
    "                                           features['day'] <= n_train_days)\n",
    "        \n",
    "        is_fit = np.logical_or(is_prev_months_fit, is_this_month_fit)\n",
    "        \n",
    "        is_val = np.logical_and(features['month_since_start'] == this_month_since_start,\n",
    "                                features['day'] > n_train_days)\n",
    "        \n",
    "        features_fit = {}\n",
    "        features_val = {}\n",
    "        \n",
    "        for k in features:\n",
    "            features_fit[k] = features[k][is_fit]\n",
    "            features_val[k] = features[k][is_val]    \n",
    "        \n",
    "        if (len(models) == 2) and (len(targets) == 2):\n",
    "\n",
    "            # The targets are log(1 + x) so one has to be careful combining them\n",
    "            # if y = log(1 + x) then exp(y) = 1 + x, i.e. x = exp(y) - 1\n",
    "            target_total = np.log1p(np.exp(targets[0]) - 1 + np.exp(targets[1]) - 1)\n",
    "            \n",
    "            # Train the models on past data\n",
    "            models[0].fit(features_fit, targets[0][is_fit])\n",
    "            models[1].fit(features_fit, targets[1][is_fit])\n",
    "        \n",
    "            # Validate on this month's end\n",
    "            target0_val_pred = models[0].predict(features_val)\n",
    "            target1_val_pred = models[1].predict(features_val)\n",
    "\n",
    "            # The targets are log(1 + x) so one has to be careful combining them\n",
    "            # if y = log(1 + x) then exp(y) = 1 + x, i.e. x = exp(y) - 1\n",
    "            target_total_val_pred = np.log1p(np.exp(target0_val_pred) - 1 + np.exp(target1_val_pred) - 1)\n",
    "            \n",
    "        elif (len(models) == 1) and (len(targets) == 1):\n",
    "            \n",
    "            target_total = targets[0]\n",
    "            \n",
    "            # Train the model on past data\n",
    "            models[0].fit(features_fit, target_total[is_fit])\n",
    "        \n",
    "            # Validate on this month's end\n",
    "            target_total_val_pred = models[0].predict(features_val)\n",
    "        \n",
    "        else:\n",
    "            raise ValueError(\"The parameters 'models' and 'targets' must have the same length.\")\n",
    "        \n",
    "        score = np.sqrt(np.mean((target_total_val_pred - target_total[is_val])**2))\n",
    "        scores.append(score)\n",
    "        \n",
    "        if debug:\n",
    "            print('  Month ' + str(this_month_since_start) + \n",
    "                  ', score: ' + str(score) +\n",
    "                  ', n_fit = ' + str(np.sum(is_fit)) +\n",
    "                  ', n_val = ' + str(np.sum(is_val)))\n",
    "    \n",
    "    return np.asarray(scores)\n"
   ]
  },
  {
   "cell_type": "code",
   "execution_count": 5,
   "metadata": {
    "collapsed": true
   },
   "outputs": [],
   "source": [
    "def features_to_matrix(*args):\n",
    "    # Construct a feature matrix from features given as 1d vectors\n",
    "    \n",
    "    add_axis1 = partial(np.expand_dims, axis=1)\n",
    "    X = np.concatenate(map(add_axis1, args), axis=1)\n",
    "    return X"
   ]
  },
  {
   "cell_type": "markdown",
   "metadata": {},
   "source": [
    "## Models\n",
    "\n",
    "### Simple model that looks only at current hour's data for prediction but trains on as much data as possible\n",
    "This model can have a large training set, looking at all the data that is in the past relative to the period for which prediction is made."
   ]
  },
  {
   "cell_type": "code",
   "execution_count": 6,
   "metadata": {
    "collapsed": false
   },
   "outputs": [],
   "source": [
    "class ModelSimple:\n",
    "    # Prediction looking only at the data from the current hour\n",
    "    # Trained on all data passed to it\n",
    "\n",
    "    def __init__(self, skl_reg):\n",
    "        # Provide your own regression from scikit-learn (or compatible)\n",
    "        self.skl_reg = skl_reg\n",
    "        \n",
    "    def my_features_to_matrix(self, features):\n",
    "        X = features_to_matrix(features['wday'], \n",
    "                               features['hour'],\n",
    "                               features['holiday'],\n",
    "                               features['workingday'],\n",
    "                               features['weather'],\n",
    "                               features['temp'],\n",
    "                               features['atemp'],\n",
    "                               features['humidity'],\n",
    "                               features['windspeed'],\n",
    "                               features['month_since_start'],\n",
    "                              )\n",
    "        \n",
    "        return X\n",
    "\n",
    "    def fit(self, features, target):\n",
    "        X = self.my_features_to_matrix(features)\n",
    "        self.skl_reg.fit(X, target)\n",
    "    \n",
    "    def predict(self, features):\n",
    "        X = self.my_features_to_matrix(features)\n",
    "        return self.skl_reg.predict(X)"
   ]
  },
  {
   "cell_type": "code",
   "execution_count": 7,
   "metadata": {
    "collapsed": false
   },
   "outputs": [],
   "source": [
    "np.random.seed(42)\n",
    "poly_feat = PolynomialFeatures(degree=2, include_bias=False)\n",
    "\n",
    "reg = RandomForestRegressor(n_estimators=200, n_jobs=-1)\n",
    "#reg = RidgeCV(alphas=np.logspace(-6, 6, num=100, base=10.0), normalize=True)\n",
    "#reg = ElasticNetCV(l1_ratio=(.1, .5, .7, .9, .95, .99, 1), n_alphas=100, normalize=True, max_iter=10000)\n",
    "\n",
    "#skl_pipeline = Pipeline([('poly_feat', poly_feat), ('reg', reg)])\n",
    "skl_pipeline = Pipeline([('reg', reg)])\n",
    "\n",
    "model_simple = ModelSimple(skl_pipeline)\n",
    "val_scores_simple = validate([model_simple], train_features, [train_count_l1p])"
   ]
  },
  {
   "cell_type": "code",
   "execution_count": 8,
   "metadata": {
    "collapsed": false
   },
   "outputs": [
    {
     "name": "stdout",
     "output_type": "stream",
     "text": [
      "Score = 0.3401\n"
     ]
    },
    {
     "data": {
      "image/png": "[encoded data removed]",
      "text/plain": [
       "<matplotlib.figure.Figure at 0x10cb9fad0>"
      ]
     },
     "metadata": {},
     "output_type": "display_data"
    }
   ],
   "source": [
    "plt.plot(val_scores_simple)\n",
    "plt.xlabel('month_since_start')\n",
    "plt.ylabel('score')\n",
    "print('Score = {:.4f}'.format(np.sqrt(np.mean(val_scores_simple**2))))"
   ]
  },
  {
   "cell_type": "markdown",
   "metadata": {
    "collapsed": true
   },
   "source": [
    "### Registered and casual rentals model\n",
    "This model predicts registered and casual rentals separately and adds the results together. It consists simply of applying two other models in parallel. Since the simple models worked best so far, we use this one.\n",
    "\n",
    "#### First, see how well we can predict registered rentals."
   ]
  },
  {
   "cell_type": "code",
   "execution_count": 9,
   "metadata": {
    "collapsed": false
   },
   "outputs": [],
   "source": [
    "np.random.seed(42)\n",
    "\n",
    "reg = RandomForestRegressor(n_estimators=200, n_jobs=-1)\n",
    "\n",
    "# NOTE: if you changed ModelSimple, the results below may be unexpected\n",
    "model_registered = ModelSimple(reg)\n",
    "val_scores_registered = validate([model_registered], train_features, [train_registered_l1p])"
   ]
  },
  {
   "cell_type": "code",
   "execution_count": 10,
   "metadata": {
    "collapsed": false,
    "scrolled": true
   },
   "outputs": [
    {
     "name": "stdout",
     "output_type": "stream",
     "text": [
      "Score = 0.3234\n"
     ]
    },
    {
     "data": {
      "image/png": "[encoded data removed]",
      "text/plain": [
       "<matplotlib.figure.Figure at 0x10cc8e050>"
      ]
     },
     "metadata": {},
     "output_type": "display_data"
    }
   ],
   "source": [
    "plt.plot(val_scores_registered)\n",
    "plt.xlabel('month_since_start')\n",
    "plt.ylabel('score')\n",
    "print('Score = {:.4f}'.format(np.sqrt(np.mean(val_scores_registered**2))))"
   ]
  },
  {
   "cell_type": "markdown",
   "metadata": {},
   "source": [
    "#### Second, see how well we can predict casual rentals"
   ]
  },
  {
   "cell_type": "code",
   "execution_count": 11,
   "metadata": {
    "collapsed": false
   },
   "outputs": [],
   "source": [
    "np.random.seed(42)\n",
    "\n",
    "reg = RandomForestRegressor(n_estimators=200, n_jobs=-1)\n",
    "\n",
    "# NOTE: if you changed ModelSimple, the results below may be unexpected\n",
    "model_casual = ModelSimple(reg)\n",
    "val_scores_casual = validate([model_casual], train_features, [train_casual_l1p])"
   ]
  },
  {
   "cell_type": "code",
   "execution_count": 12,
   "metadata": {
    "collapsed": false,
    "scrolled": true
   },
   "outputs": [
    {
     "name": "stdout",
     "output_type": "stream",
     "text": [
      "Score = 0.5719\n"
     ]
    },
    {
     "data": {
      "image/png": "[encoded data removed]",
      "text/plain": [
       "<matplotlib.figure.Figure at 0x10d016410>"
      ]
     },
     "metadata": {},
     "output_type": "display_data"
    }
   ],
   "source": [
    "plt.plot(val_scores_casual)\n",
    "plt.xlabel('month_since_start')\n",
    "plt.ylabel('score')\n",
    "print('Score = {:.4f}'.format(np.sqrt(np.mean(val_scores_casual**2))))"
   ]
  },
  {
   "cell_type": "markdown",
   "metadata": {},
   "source": [
    "#### Third, we combine the two models in parallel"
   ]
  },
  {
   "cell_type": "code",
   "execution_count": 13,
   "metadata": {
    "collapsed": false
   },
   "outputs": [],
   "source": [
    "np.random.seed(42)\n",
    "\n",
    "# NOTE: if you changed ModelSimple, the results below may be unexpected\n",
    "model_regcas_registered = ModelSimple(RandomForestRegressor(n_estimators=200, n_jobs=-1))\n",
    "model_regcas_casual = ModelSimple(RandomForestRegressor(n_estimators=200, n_jobs=-1))\n",
    "\n",
    "val_scores_regcas = validate([model_regcas_registered, model_regcas_casual], train_features, [train_registered_l1p, train_casual_l1p])"
   ]
  },
  {
   "cell_type": "code",
   "execution_count": 14,
   "metadata": {
    "collapsed": false,
    "scrolled": true
   },
   "outputs": [
    {
     "name": "stdout",
     "output_type": "stream",
     "text": [
      "Score = 0.3323\n"
     ]
    },
    {
     "data": {
      "image/png": "[encoded data removed]",
      "text/plain": [
       "<matplotlib.figure.Figure at 0x10ce89550>"
      ]
     },
     "metadata": {},
     "output_type": "display_data"
    }
   ],
   "source": [
    "plt.plot(val_scores_regcas)\n",
    "plt.xlabel('month_since_start')\n",
    "plt.ylabel('score')\n",
    "print('Score = {:.4f}'.format(np.sqrt(np.mean(val_scores_regcas**2))))"
   ]
  },
  {
   "cell_type": "markdown",
   "metadata": {},
   "source": [
    "This model gives better average validation score than the simple model applied directly to total rentals."
   ]
  },
  {
   "cell_type": "markdown",
   "metadata": {},
   "source": [
    "## Generating the submission file\n",
    "\n",
    "To generate predictions for Kaggle, test data has to be read and parsed."
   ]
  },
  {
   "cell_type": "code",
   "execution_count": 15,
   "metadata": {
    "collapsed": true
   },
   "outputs": [],
   "source": [
    "test_filename = 'data/test.csv'\n",
    "test_features = parse_features(test_filename)"
   ]
  },
  {
   "cell_type": "markdown",
   "metadata": {},
   "source": [
    "Now, another loop is required to build a sequence of models for full training data available for successive months and generate predictions. "
   ]
  },
  {
   "cell_type": "code",
   "execution_count": 16,
   "metadata": {
    "collapsed": false
   },
   "outputs": [],
   "source": [
    "def generate_predictions(models, features_train, targets_train, features_test, debug=False):\n",
    "    # The parameters models and targets_train must be lists of length 1 or 2 (must be the same for both).\n",
    "    # If their length is 1, a single model will be built. If their length is 2, then two separate models\n",
    "    # will be built, with the first regressor in models fit to predict the first vector in targets and \n",
    "    # the second regressor in models fit to predict the second vector in targets. In the case of two\n",
    "    # models, the final prediction is generated by applying the inverse of log(1 + x) and adding them \n",
    "    # together.\n",
    "    \n",
    "    timestamps_predictions = []\n",
    "    \n",
    "    for this_month_since_start in np.unique(features_test['month_since_start']):\n",
    "        \n",
    "        this_fit = (features_train['month_since_start'] <= this_month_since_start)\n",
    "        this_test = (features_test['month_since_start'] == this_month_since_start)\n",
    "        \n",
    "        features_fit = {}\n",
    "        features_this_test = {}\n",
    "        \n",
    "        for k in features_train:\n",
    "            features_fit[k] = features_train[k][this_fit]\n",
    "        \n",
    "        for k in features_test:\n",
    "            features_this_test[k] = features_test[k][this_test]\n",
    "            \n",
    "        if (len(models) == 2) and (len(targets_train) == 2):\n",
    "\n",
    "            models[0].fit(features_fit, targets_train[0][this_fit])\n",
    "            models[1].fit(features_fit, targets_train[1][this_fit])\n",
    "        \n",
    "            target0_test_pred = models[0].predict(features_this_test)\n",
    "            target1_test_pred = models[1].predict(features_this_test)\n",
    "\n",
    "            # The targets are log(1 + x) so one has to be careful combining them\n",
    "            # if y = log(1 + x) then exp(y) = 1 + x, i.e. x = exp(y) - 1\n",
    "            pred_this_month = np.exp(target0_test_pred) - 1 + np.exp(target1_test_pred) - 1\n",
    "            \n",
    "        elif (len(models)) == 1 and (len(targets_train)) == 1:\n",
    "            \n",
    "            models[0].fit(features_fit, targets_train[0][this_fit])\n",
    "        \n",
    "            target_test_pred = models[0].predict(features_this_test)\n",
    "            \n",
    "            pred_this_month = np.exp(target_test_pred) - 1\n",
    "        \n",
    "        else:\n",
    "            raise ValueError(\"The parameters 'models' and 'targets' must have the same length.\")\n",
    "\n",
    "        timestamps_predictions.extend(zip(features_test['timestamp'][this_test], pred_this_month))\n",
    "            \n",
    "        if debug:\n",
    "            print('  Month ' + str(this_month_since_start))\n",
    "    \n",
    "    return timestamps_predictions\n"
   ]
  },
  {
   "cell_type": "markdown",
   "metadata": {},
   "source": [
    " Train a model on all training data and generate predictions"
   ]
  },
  {
   "cell_type": "code",
   "execution_count": 17,
   "metadata": {
    "collapsed": false
   },
   "outputs": [],
   "source": [
    "model_final_registered = ModelSimple(RandomForestRegressor(n_estimators=200, n_jobs=-1))\n",
    "model_final_casual = ModelSimple(RandomForestRegressor(n_estimators=200, n_jobs=-1))\n",
    "\n",
    "timestamps_predictions = generate_predictions([model_final_registered, model_final_casual], \n",
    "                                              train_features, \n",
    "                                              [train_registered_l1p, train_casual_l1p], \n",
    "                                              test_features)"
   ]
  },
  {
   "cell_type": "code",
   "execution_count": 18,
   "metadata": {
    "collapsed": false
   },
   "outputs": [],
   "source": [
    "def generate_submission_file(submission_filename, timestamps_predictions):\n",
    "            \n",
    "    out = 'datetime,count\\n' + '\\n'.join([t + ',' + str(p) for t, p in timestamps_predictions])\n",
    "    \n",
    "    with open(submission_filename, 'wb') as f_out:\n",
    "        f_out.write(out)"
   ]
  },
  {
   "cell_type": "code",
   "execution_count": 19,
   "metadata": {
    "collapsed": false
   },
   "outputs": [],
   "source": [
    "submission_filename = 'data/submission.csv'\n",
    "generate_submission_file(submission_filename, timestamps_predictions)"
   ]
  },
  {
   "cell_type": "code",
   "execution_count": null,
   "metadata": {
    "collapsed": true
   },
   "outputs": [],
   "source": []
  }
 ],
 "metadata": {
  "kernelspec": {
   "display_name": "Python 2",
   "language": "python",
   "name": "python2"
  },
  "language_info": {
   "codemirror_mode": {
    "name": "ipython",
    "version": 2
   },
   "file_extension": ".py",
   "mimetype": "text/x-python",
   "name": "python",
   "nbconvert_exporter": "python",
   "pygments_lexer": "ipython2",
   "version": "2.7.11"
  }
 },
 "nbformat": 4,
 "nbformat_minor": 0
}
